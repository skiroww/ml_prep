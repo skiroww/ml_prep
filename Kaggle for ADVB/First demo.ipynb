{
 "cells": [
  {
   "cell_type": "code",
   "execution_count": 1,
   "id": "64d3fdc6",
   "metadata": {},
   "outputs": [],
   "source": [
    "import pandas as pd\n",
    "import numpy as np\n",
    "import matplotlib.pyplot as plt\n",
    "import seaborn as sns"
   ]
  },
  {
   "cell_type": "code",
   "execution_count": 2,
   "id": "2c97a298",
   "metadata": {},
   "outputs": [],
   "source": [
    "df = pd.read_csv('train_kaggle.csv')\n",
    "test_data = pd.read_csv('test_kaggle.csv')"
   ]
  },
  {
   "cell_type": "code",
   "execution_count": 172,
   "id": "93e2a853",
   "metadata": {},
   "outputs": [
    {
     "data": {
      "text/html": [
       "<div>\n",
       "<style scoped>\n",
       "    .dataframe tbody tr th:only-of-type {\n",
       "        vertical-align: middle;\n",
       "    }\n",
       "\n",
       "    .dataframe tbody tr th {\n",
       "        vertical-align: top;\n",
       "    }\n",
       "\n",
       "    .dataframe thead th {\n",
       "        text-align: right;\n",
       "    }\n",
       "</style>\n",
       "<table border=\"1\" class=\"dataframe\">\n",
       "  <thead>\n",
       "    <tr style=\"text-align: right;\">\n",
       "      <th></th>\n",
       "      <th>Store_id</th>\n",
       "      <th>SKU_id</th>\n",
       "      <th>Date</th>\n",
       "      <th>Promo</th>\n",
       "      <th>Demand</th>\n",
       "      <th>Regular_Price</th>\n",
       "      <th>Promo_Price</th>\n",
       "    </tr>\n",
       "  </thead>\n",
       "  <tbody>\n",
       "    <tr>\n",
       "      <th>0</th>\n",
       "      <td>1</td>\n",
       "      <td>1</td>\n",
       "      <td>01.01.2015</td>\n",
       "      <td>NaN</td>\n",
       "      <td>22</td>\n",
       "      <td>163.78</td>\n",
       "      <td>NaN</td>\n",
       "    </tr>\n",
       "    <tr>\n",
       "      <th>1</th>\n",
       "      <td>1</td>\n",
       "      <td>1</td>\n",
       "      <td>02.01.2015</td>\n",
       "      <td>NaN</td>\n",
       "      <td>41</td>\n",
       "      <td>163.78</td>\n",
       "      <td>NaN</td>\n",
       "    </tr>\n",
       "    <tr>\n",
       "      <th>2</th>\n",
       "      <td>1</td>\n",
       "      <td>1</td>\n",
       "      <td>03.01.2015</td>\n",
       "      <td>NaN</td>\n",
       "      <td>35</td>\n",
       "      <td>163.78</td>\n",
       "      <td>NaN</td>\n",
       "    </tr>\n",
       "    <tr>\n",
       "      <th>3</th>\n",
       "      <td>1</td>\n",
       "      <td>1</td>\n",
       "      <td>04.01.2015</td>\n",
       "      <td>NaN</td>\n",
       "      <td>72</td>\n",
       "      <td>163.78</td>\n",
       "      <td>NaN</td>\n",
       "    </tr>\n",
       "    <tr>\n",
       "      <th>4</th>\n",
       "      <td>1</td>\n",
       "      <td>1</td>\n",
       "      <td>05.01.2015</td>\n",
       "      <td>NaN</td>\n",
       "      <td>25</td>\n",
       "      <td>163.78</td>\n",
       "      <td>NaN</td>\n",
       "    </tr>\n",
       "  </tbody>\n",
       "</table>\n",
       "</div>"
      ],
      "text/plain": [
       "   Store_id  SKU_id        Date  Promo  Demand  Regular_Price  Promo_Price\n",
       "0         1       1  01.01.2015    NaN      22         163.78          NaN\n",
       "1         1       1  02.01.2015    NaN      41         163.78          NaN\n",
       "2         1       1  03.01.2015    NaN      35         163.78          NaN\n",
       "3         1       1  04.01.2015    NaN      72         163.78          NaN\n",
       "4         1       1  05.01.2015    NaN      25         163.78          NaN"
      ]
     },
     "execution_count": 172,
     "metadata": {},
     "output_type": "execute_result"
    }
   ],
   "source": [
    "df.head()"
   ]
  },
  {
   "cell_type": "code",
   "execution_count": 173,
   "id": "7b62a71b",
   "metadata": {},
   "outputs": [
    {
     "data": {
      "text/plain": [
       "86916"
      ]
     },
     "execution_count": 173,
     "metadata": {},
     "output_type": "execute_result"
    }
   ],
   "source": [
    "len(df)"
   ]
  },
  {
   "cell_type": "code",
   "execution_count": 174,
   "id": "ce7069ca",
   "metadata": {},
   "outputs": [],
   "source": [
    "# Fill promo with 0 and extract temporal features\n",
    "df['Promo'] = df['Promo'].fillna(0.0)\n",
    "df['Date'] = pd.to_datetime(df['Date'], dayfirst = True)\n",
    "df[\"weekday\"] = df.Date.dt.weekday\n",
    "df[\"monthday\"] = df.Date.dt.day\n",
    "df['is_weekend'] = df.weekday.isin([5,6])*1\n",
    "df['month'] = df.Date.dt.month"
   ]
  },
  {
   "cell_type": "code",
   "execution_count": 175,
   "id": "09bcfd62",
   "metadata": {},
   "outputs": [],
   "source": [
    "df['Promo_Price'] = df['Promo_Price'].fillna(0)"
   ]
  },
  {
   "cell_type": "code",
   "execution_count": 176,
   "id": "d4c9fa80",
   "metadata": {},
   "outputs": [],
   "source": [
    "sns.mpl.rc(\"figure\", figsize=(25, 5))\n",
    "sns.mpl.rc(\"font\", size=14)"
   ]
  },
  {
   "cell_type": "code",
   "execution_count": 177,
   "id": "bd618fa2",
   "metadata": {
    "scrolled": true
   },
   "outputs": [
    {
     "data": {
      "text/plain": [
       "month\n",
       "1     114.524155\n",
       "2     176.239268\n",
       "3     209.662368\n",
       "4     199.593624\n",
       "5     186.661030\n",
       "6     197.552030\n",
       "7     317.278839\n",
       "8     213.674271\n",
       "9     184.899961\n",
       "10    203.475361\n",
       "11    247.375093\n",
       "12    146.560180\n",
       "Name: Demand, dtype: float64"
      ]
     },
     "execution_count": 177,
     "metadata": {},
     "output_type": "execute_result"
    }
   ],
   "source": [
    "# as can be seen - months 1 and 2 are lower than usual, months 7 and 11 - higher\n",
    "# use it as a feature\n",
    "\n",
    "ys = df.groupby('month').Demand.mean()\n",
    "ys"
   ]
  },
  {
   "cell_type": "code",
   "execution_count": 178,
   "id": "bb28f648",
   "metadata": {
    "scrolled": true
   },
   "outputs": [
    {
     "name": "stderr",
     "output_type": "stream",
     "text": [
      "/var/folders/kt/8pnx4rb10372fz63y2z655nh0000gn/T/ipykernel_31657/873926764.py:5: SettingWithCopyWarning: \n",
      "A value is trying to be set on a copy of a slice from a DataFrame\n",
      "\n",
      "See the caveats in the documentation: https://pandas.pydata.org/pandas-docs/stable/user_guide/indexing.html#returning-a-view-versus-a-copy\n",
      "  df['Promo_Price'][j] =df['Regular_Price'][j]\n"
     ]
    }
   ],
   "source": [
    "df['expected_lower'] = [int(x in (1,2)) for x in df.month]\n",
    "df['expected_higher'] = [int(x ==11 or x ==7) for x in df.month]\n",
    "for j in range(len(df)):\n",
    "    if(df['Promo_Price'][j] == 0):\n",
    "        df['Promo_Price'][j] =df['Regular_Price'][j] "
   ]
  },
  {
   "cell_type": "code",
   "execution_count": 179,
   "id": "d6dd346a",
   "metadata": {},
   "outputs": [],
   "source": [
    "from sklearn.preprocessing import StandardScaler \n",
    "from sklearn.model_selection import train_test_split as tts\n",
    "target = df.Demand\n",
    "df.drop('Demand',axis=1,inplace=True)"
   ]
  },
  {
   "cell_type": "code",
   "execution_count": 180,
   "id": "54d3b09c",
   "metadata": {},
   "outputs": [],
   "source": [
    "X_train, X_test, y_train, y_test = tts(\n",
    "   df, target, test_size=0.2, random_state=42)"
   ]
  },
  {
   "cell_type": "code",
   "execution_count": 181,
   "id": "c8e2709f",
   "metadata": {},
   "outputs": [
    {
     "name": "stderr",
     "output_type": "stream",
     "text": [
      "/Users/michaelmiller/opt/anaconda3/lib/python3.8/site-packages/pandas/core/frame.py:3678: SettingWithCopyWarning: \n",
      "A value is trying to be set on a copy of a slice from a DataFrame.\n",
      "Try using .loc[row_indexer,col_indexer] = value instead\n",
      "\n",
      "See the caveats in the documentation: https://pandas.pydata.org/pandas-docs/stable/user_guide/indexing.html#returning-a-view-versus-a-copy\n",
      "  self[col] = igetitem(value, i)\n",
      "/Users/michaelmiller/opt/anaconda3/lib/python3.8/site-packages/pandas/core/frame.py:3678: SettingWithCopyWarning: \n",
      "A value is trying to be set on a copy of a slice from a DataFrame.\n",
      "Try using .loc[row_indexer,col_indexer] = value instead\n",
      "\n",
      "See the caveats in the documentation: https://pandas.pydata.org/pandas-docs/stable/user_guide/indexing.html#returning-a-view-versus-a-copy\n",
      "  self[col] = igetitem(value, i)\n"
     ]
    }
   ],
   "source": [
    "numerical_cols = ['Regular_Price','weekday','monthday','Promo_Price','month']\n",
    "scal = StandardScaler()\n",
    "X_train[numerical_cols] = scal.fit_transform(X_train[numerical_cols])\n",
    "X_test[numerical_cols] = scal.transform(X_test[numerical_cols])"
   ]
  },
  {
   "cell_type": "code",
   "execution_count": 182,
   "id": "18e1c7d6",
   "metadata": {},
   "outputs": [],
   "source": [
    "from xgboost import XGBRegressor\n",
    "from sklearn.model_selection import RepeatedKFold\n",
    "from sklearn.model_selection import cross_val_score\n",
    "from sklearn.metrics import mean_absolute_error as mae"
   ]
  },
  {
   "cell_type": "code",
   "execution_count": 183,
   "id": "1da9b820",
   "metadata": {},
   "outputs": [
    {
     "name": "stderr",
     "output_type": "stream",
     "text": [
      "/Users/michaelmiller/opt/anaconda3/lib/python3.8/site-packages/pandas/core/frame.py:4906: SettingWithCopyWarning: \n",
      "A value is trying to be set on a copy of a slice from a DataFrame\n",
      "\n",
      "See the caveats in the documentation: https://pandas.pydata.org/pandas-docs/stable/user_guide/indexing.html#returning-a-view-versus-a-copy\n",
      "  return super().drop(\n"
     ]
    }
   ],
   "source": [
    "X_train.drop('Date',axis=1,inplace=True)\n",
    "X_test.drop('Date',axis=1,inplace=True)\n",
    "X_train.drop('Store_id',axis=1,inplace=True)\n",
    "X_test.drop('Store_id',axis=1,inplace=True)\n",
    "X_train.drop('SKU_id',axis=1,inplace=True)\n",
    "X_test.drop('SKU_id',axis=1,inplace=True)"
   ]
  },
  {
   "cell_type": "code",
   "execution_count": 184,
   "id": "e5af5263",
   "metadata": {},
   "outputs": [
    {
     "data": {
      "text/plain": [
       "XGBRegressor(base_score=None, booster=None, callbacks=None,\n",
       "             colsample_bylevel=None, colsample_bynode=None,\n",
       "             colsample_bytree=None, early_stopping_rounds=None,\n",
       "             enable_categorical=False, eval_metric=None, feature_types=None,\n",
       "             gamma=None, gpu_id=None, grow_policy=None, importance_type=None,\n",
       "             interaction_constraints=None, learning_rate=None, max_bin=None,\n",
       "             max_cat_threshold=None, max_cat_to_onehot=None,\n",
       "             max_delta_step=None, max_depth=10, max_leaves=None,\n",
       "             min_child_weight=None, missing=nan, monotone_constraints=None,\n",
       "             n_estimators=100, n_jobs=None, num_parallel_tree=None,\n",
       "             objective='reg:squarederror', predictor=None, ...)"
      ]
     },
     "execution_count": 184,
     "metadata": {},
     "output_type": "execute_result"
    }
   ],
   "source": [
    "model = XGBRegressor(n_estimators=100, max_depth=10)\n",
    "model.fit(X_train,y_train)"
   ]
  },
  {
   "cell_type": "code",
   "execution_count": 185,
   "id": "485b90c9",
   "metadata": {},
   "outputs": [],
   "source": [
    "y_preds = model.predict(X_test)"
   ]
  },
  {
   "cell_type": "code",
   "execution_count": 186,
   "id": "19fa1656",
   "metadata": {
    "scrolled": true
   },
   "outputs": [
    {
     "data": {
      "text/plain": [
       "98.63285298635967"
      ]
     },
     "execution_count": 186,
     "metadata": {},
     "output_type": "execute_result"
    }
   ],
   "source": [
    "mae(y_test,y_preds)"
   ]
  },
  {
   "cell_type": "code",
   "execution_count": 113,
   "id": "d6187368",
   "metadata": {},
   "outputs": [
    {
     "data": {
      "text/plain": [
       "array([ 2.8095917e+02,  3.5682044e+00,  1.8670254e+00, ...,\n",
       "        5.1549634e+02,  7.8382607e+00, -8.6920317e-03], dtype=float32)"
      ]
     },
     "execution_count": 113,
     "metadata": {},
     "output_type": "execute_result"
    }
   ],
   "source": [
    "y_preds"
   ]
  },
  {
   "cell_type": "code",
   "execution_count": 169,
   "id": "70cb49ea",
   "metadata": {},
   "outputs": [
    {
     "data": {
      "text/html": [
       "<div>\n",
       "<style scoped>\n",
       "    .dataframe tbody tr th:only-of-type {\n",
       "        vertical-align: middle;\n",
       "    }\n",
       "\n",
       "    .dataframe tbody tr th {\n",
       "        vertical-align: top;\n",
       "    }\n",
       "\n",
       "    .dataframe thead th {\n",
       "        text-align: right;\n",
       "    }\n",
       "</style>\n",
       "<table border=\"1\" class=\"dataframe\">\n",
       "  <thead>\n",
       "    <tr style=\"text-align: right;\">\n",
       "      <th></th>\n",
       "      <th>Store_id</th>\n",
       "      <th>SKU_id</th>\n",
       "      <th>Date</th>\n",
       "      <th>Promo</th>\n",
       "      <th>Demand</th>\n",
       "      <th>Regular_Price</th>\n",
       "      <th>Promo_Price</th>\n",
       "      <th>weekday</th>\n",
       "      <th>monthday</th>\n",
       "      <th>is_weekend</th>\n",
       "      <th>month</th>\n",
       "      <th>expected_lower</th>\n",
       "      <th>expected_higher</th>\n",
       "    </tr>\n",
       "  </thead>\n",
       "  <tbody>\n",
       "    <tr>\n",
       "      <th>38327</th>\n",
       "      <td>78</td>\n",
       "      <td>1</td>\n",
       "      <td>2015-06-14</td>\n",
       "      <td>1.0</td>\n",
       "      <td>924</td>\n",
       "      <td>-0.817720</td>\n",
       "      <td>-1.373594</td>\n",
       "      <td>1.491958</td>\n",
       "      <td>-0.176079</td>\n",
       "      <td>1</td>\n",
       "      <td>0.125273</td>\n",
       "      <td>0</td>\n",
       "      <td>0</td>\n",
       "    </tr>\n",
       "    <tr>\n",
       "      <th>24627</th>\n",
       "      <td>49</td>\n",
       "      <td>1</td>\n",
       "      <td>2015-09-01</td>\n",
       "      <td>0.0</td>\n",
       "      <td>145</td>\n",
       "      <td>-0.166671</td>\n",
       "      <td>0.122405</td>\n",
       "      <td>-1.008821</td>\n",
       "      <td>-1.666127</td>\n",
       "      <td>0</td>\n",
       "      <td>0.991008</td>\n",
       "      <td>0</td>\n",
       "      <td>0</td>\n",
       "    </tr>\n",
       "    <tr>\n",
       "      <th>68925</th>\n",
       "      <td>50</td>\n",
       "      <td>2</td>\n",
       "      <td>2015-10-28</td>\n",
       "      <td>0.0</td>\n",
       "      <td>0</td>\n",
       "      <td>0.513773</td>\n",
       "      <td>0.631942</td>\n",
       "      <td>-0.508665</td>\n",
       "      <td>1.428587</td>\n",
       "      <td>0</td>\n",
       "      <td>1.279586</td>\n",
       "      <td>0</td>\n",
       "      <td>0</td>\n",
       "    </tr>\n",
       "    <tr>\n",
       "      <th>84058</th>\n",
       "      <td>84</td>\n",
       "      <td>2</td>\n",
       "      <td>2015-11-30</td>\n",
       "      <td>0.0</td>\n",
       "      <td>6</td>\n",
       "      <td>-0.092639</td>\n",
       "      <td>0.177843</td>\n",
       "      <td>-1.508977</td>\n",
       "      <td>1.657825</td>\n",
       "      <td>0</td>\n",
       "      <td>1.568165</td>\n",
       "      <td>0</td>\n",
       "      <td>1</td>\n",
       "    </tr>\n",
       "    <tr>\n",
       "      <th>50839</th>\n",
       "      <td>14</td>\n",
       "      <td>2</td>\n",
       "      <td>2016-05-17</td>\n",
       "      <td>0.0</td>\n",
       "      <td>0</td>\n",
       "      <td>-0.077397</td>\n",
       "      <td>0.189256</td>\n",
       "      <td>-1.008821</td>\n",
       "      <td>0.167778</td>\n",
       "      <td>0</td>\n",
       "      <td>-0.163306</td>\n",
       "      <td>0</td>\n",
       "      <td>0</td>\n",
       "    </tr>\n",
       "    <tr>\n",
       "      <th>...</th>\n",
       "      <td>...</td>\n",
       "      <td>...</td>\n",
       "      <td>...</td>\n",
       "      <td>...</td>\n",
       "      <td>...</td>\n",
       "      <td>...</td>\n",
       "      <td>...</td>\n",
       "      <td>...</td>\n",
       "      <td>...</td>\n",
       "      <td>...</td>\n",
       "      <td>...</td>\n",
       "      <td>...</td>\n",
       "      <td>...</td>\n",
       "    </tr>\n",
       "    <tr>\n",
       "      <th>6265</th>\n",
       "      <td>13</td>\n",
       "      <td>1</td>\n",
       "      <td>2015-06-19</td>\n",
       "      <td>0.0</td>\n",
       "      <td>245</td>\n",
       "      <td>-1.202035</td>\n",
       "      <td>-0.652906</td>\n",
       "      <td>0.491646</td>\n",
       "      <td>0.397016</td>\n",
       "      <td>0</td>\n",
       "      <td>0.125273</td>\n",
       "      <td>0</td>\n",
       "      <td>0</td>\n",
       "    </tr>\n",
       "    <tr>\n",
       "      <th>54886</th>\n",
       "      <td>22</td>\n",
       "      <td>2</td>\n",
       "      <td>2016-04-30</td>\n",
       "      <td>0.0</td>\n",
       "      <td>0</td>\n",
       "      <td>-0.077397</td>\n",
       "      <td>0.189256</td>\n",
       "      <td>0.991802</td>\n",
       "      <td>1.657825</td>\n",
       "      <td>1</td>\n",
       "      <td>-0.451884</td>\n",
       "      <td>0</td>\n",
       "      <td>0</td>\n",
       "    </tr>\n",
       "    <tr>\n",
       "      <th>76820</th>\n",
       "      <td>66</td>\n",
       "      <td>2</td>\n",
       "      <td>2016-04-11</td>\n",
       "      <td>0.0</td>\n",
       "      <td>3</td>\n",
       "      <td>-0.077397</td>\n",
       "      <td>0.189256</td>\n",
       "      <td>-1.508977</td>\n",
       "      <td>-0.519936</td>\n",
       "      <td>0</td>\n",
       "      <td>-0.451884</td>\n",
       "      <td>0</td>\n",
       "      <td>0</td>\n",
       "    </tr>\n",
       "    <tr>\n",
       "      <th>860</th>\n",
       "      <td>2</td>\n",
       "      <td>1</td>\n",
       "      <td>2015-12-19</td>\n",
       "      <td>0.0</td>\n",
       "      <td>443</td>\n",
       "      <td>-0.965785</td>\n",
       "      <td>-0.475995</td>\n",
       "      <td>0.991802</td>\n",
       "      <td>0.397016</td>\n",
       "      <td>1</td>\n",
       "      <td>1.856743</td>\n",
       "      <td>0</td>\n",
       "      <td>0</td>\n",
       "    </tr>\n",
       "    <tr>\n",
       "      <th>15795</th>\n",
       "      <td>32</td>\n",
       "      <td>1</td>\n",
       "      <td>2015-02-17</td>\n",
       "      <td>1.0</td>\n",
       "      <td>518</td>\n",
       "      <td>1.106032</td>\n",
       "      <td>0.621343</td>\n",
       "      <td>-1.008821</td>\n",
       "      <td>0.167778</td>\n",
       "      <td>0</td>\n",
       "      <td>-1.029041</td>\n",
       "      <td>1</td>\n",
       "      <td>0</td>\n",
       "    </tr>\n",
       "  </tbody>\n",
       "</table>\n",
       "<p>69532 rows × 13 columns</p>\n",
       "</div>"
      ],
      "text/plain": [
       "       Store_id  SKU_id       Date  Promo  Demand  Regular_Price  Promo_Price  \\\n",
       "38327        78       1 2015-06-14    1.0     924      -0.817720    -1.373594   \n",
       "24627        49       1 2015-09-01    0.0     145      -0.166671     0.122405   \n",
       "68925        50       2 2015-10-28    0.0       0       0.513773     0.631942   \n",
       "84058        84       2 2015-11-30    0.0       6      -0.092639     0.177843   \n",
       "50839        14       2 2016-05-17    0.0       0      -0.077397     0.189256   \n",
       "...         ...     ...        ...    ...     ...            ...          ...   \n",
       "6265         13       1 2015-06-19    0.0     245      -1.202035    -0.652906   \n",
       "54886        22       2 2016-04-30    0.0       0      -0.077397     0.189256   \n",
       "76820        66       2 2016-04-11    0.0       3      -0.077397     0.189256   \n",
       "860           2       1 2015-12-19    0.0     443      -0.965785    -0.475995   \n",
       "15795        32       1 2015-02-17    1.0     518       1.106032     0.621343   \n",
       "\n",
       "        weekday  monthday  is_weekend     month  expected_lower  \\\n",
       "38327  1.491958 -0.176079           1  0.125273               0   \n",
       "24627 -1.008821 -1.666127           0  0.991008               0   \n",
       "68925 -0.508665  1.428587           0  1.279586               0   \n",
       "84058 -1.508977  1.657825           0  1.568165               0   \n",
       "50839 -1.008821  0.167778           0 -0.163306               0   \n",
       "...         ...       ...         ...       ...             ...   \n",
       "6265   0.491646  0.397016           0  0.125273               0   \n",
       "54886  0.991802  1.657825           1 -0.451884               0   \n",
       "76820 -1.508977 -0.519936           0 -0.451884               0   \n",
       "860    0.991802  0.397016           1  1.856743               0   \n",
       "15795 -1.008821  0.167778           0 -1.029041               1   \n",
       "\n",
       "       expected_higher  \n",
       "38327                0  \n",
       "24627                0  \n",
       "68925                0  \n",
       "84058                1  \n",
       "50839                0  \n",
       "...                ...  \n",
       "6265                 0  \n",
       "54886                0  \n",
       "76820                0  \n",
       "860                  0  \n",
       "15795                0  \n",
       "\n",
       "[69532 rows x 13 columns]"
      ]
     },
     "execution_count": 169,
     "metadata": {},
     "output_type": "execute_result"
    }
   ],
   "source": [
    "X_train"
   ]
  },
  {
   "cell_type": "code",
   "execution_count": null,
   "id": "78f25863",
   "metadata": {},
   "outputs": [],
   "source": []
  }
 ],
 "metadata": {
  "kernelspec": {
   "display_name": "Python 3 (ipykernel)",
   "language": "python",
   "name": "python3"
  },
  "language_info": {
   "codemirror_mode": {
    "name": "ipython",
    "version": 3
   },
   "file_extension": ".py",
   "mimetype": "text/x-python",
   "name": "python",
   "nbconvert_exporter": "python",
   "pygments_lexer": "ipython3",
   "version": "3.8.8"
  }
 },
 "nbformat": 4,
 "nbformat_minor": 5
}
