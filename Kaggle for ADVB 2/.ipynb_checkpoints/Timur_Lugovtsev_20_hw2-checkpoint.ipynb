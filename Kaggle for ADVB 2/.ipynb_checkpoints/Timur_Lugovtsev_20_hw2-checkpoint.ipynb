{
 "cells": [
  {
   "cell_type": "code",
   "execution_count": 48,
   "id": "73f609aa",
   "metadata": {},
   "outputs": [],
   "source": [
    "import pandas as pd\n",
    "import numpy as np\n",
    "import matplotlib.pyplot as plt\n",
    "import seaborn as sns\n",
    "from scipy import stats\n",
    "from sklearn.pipeline import Pipeline\n",
    "from sklearn.compose import ColumnTransformer\n",
    "from sklearn.preprocessing import StandardScaler\n",
    "from sklearn.model_selection import train_test_split\n",
    "from sklearn.metrics import mean_absolute_error as mae\n",
    "from xgboost import XGBRegressor"
   ]
  },
  {
   "cell_type": "code",
   "execution_count": 49,
   "id": "c5bde664",
   "metadata": {},
   "outputs": [],
   "source": [
    "# Fill missing values and extract temporal features\n",
    "def preprocess(df):\n",
    "    df.drop(['SKU_id'], axis=1,inplace=True)\n",
    "    df['Promo'].fillna(0.0, inplace=True)\n",
    "    df['Promo_Price'].fillna(0, inplace=True)\n",
    "    df.loc[df['Promo_Price'] == 0, 'Promo_Price'] = df['Regular_Price']\n",
    "    df['Date'] = pd.to_datetime(df['Date'], dayfirst=True)\n",
    "    df['weekday'] = df['Date'].dt.weekday\n",
    "    df['monthday'] = df['Date'].dt.day\n",
    "    df['is_weekend'] = df['weekday'].isin([5, 6]).astype(int)\n",
    "    df['year'] = df['Date'].dt.year\n",
    "    df['month'] = df['Date'].dt.month\n",
    "    df.drop('Regular_Price',axis=1,inplace=True)\n",
    "    return df"
   ]
  },
  {
   "cell_type": "code",
   "execution_count": 50,
   "id": "cab63401",
   "metadata": {},
   "outputs": [],
   "source": [
    "# Define constants\n",
    "MONTHS_EXPECTED_LOWER = (1, 2)\n",
    "MONTHS_EXPECTED_HIGHER = (7, 11)\n",
    "\n",
    "# Load data\n",
    "df = pd.read_csv('train_kaggle.csv')\n",
    "test_data = pd.read_csv('test_kaggle.csv')\n",
    "df = df[stats.zscore(df.Demand)<3]\n",
    "\n",
    "df = preprocess(df)"
   ]
  },
  {
   "cell_type": "code",
   "execution_count": 51,
   "id": "8a3c2cfa",
   "metadata": {},
   "outputs": [],
   "source": [
    "# Split data into train and test sets\n",
    "target = df['Demand']\n",
    "features = df.drop(['Demand', 'Date'], axis=1)\n",
    "X_train, X_test, y_train, y_test = train_test_split(features, target, test_size=0.2, random_state=42)"
   ]
  },
  {
   "cell_type": "code",
   "execution_count": 52,
   "id": "7a23d555",
   "metadata": {},
   "outputs": [],
   "source": [
    "# Preprocess data using a pipeline\n",
    "numerical_cols = [ 'weekday', 'monthday', 'Promo_Price', 'month','year']\n",
    "preprocessor = ColumnTransformer(transformers=[('num', StandardScaler(), numerical_cols)], remainder='drop')\n",
    "pipeline = Pipeline(steps=[('preprocessor', preprocessor)])\n",
    "X_train = pipeline.fit_transform(X_train)\n",
    "X_test = pipeline.transform(X_test)"
   ]
  },
  {
   "cell_type": "code",
   "execution_count": 53,
   "id": "af4d1add",
   "metadata": {},
   "outputs": [
    {
     "data": {
      "text/plain": [
       "XGBRegressor(base_score=None, booster=None, callbacks=None,\n",
       "             colsample_bylevel=None, colsample_bynode=None,\n",
       "             colsample_bytree=None, early_stopping_rounds=None,\n",
       "             enable_categorical=False, eval_metric=None, feature_types=None,\n",
       "             gamma=None, gpu_id=None, grow_policy=None, importance_type=None,\n",
       "             interaction_constraints=None, learning_rate=None, max_bin=None,\n",
       "             max_cat_threshold=None, max_cat_to_onehot=None,\n",
       "             max_delta_step=None, max_depth=10, max_leaves=None,\n",
       "             min_child_weight=None, missing=nan, monotone_constraints=None,\n",
       "             n_estimators=100, n_jobs=None, num_parallel_tree=None,\n",
       "             objective='reg:squarederror', predictor=None, ...)"
      ]
     },
     "execution_count": 53,
     "metadata": {},
     "output_type": "execute_result"
    }
   ],
   "source": [
    "# Train XGBoost model\n",
    "model = XGBRegressor( max_depth=10)\n",
    "model.fit(X_train, y_train)"
   ]
  },
  {
   "cell_type": "code",
   "execution_count": 54,
   "id": "c39fdcd1",
   "metadata": {},
   "outputs": [
    {
     "name": "stdout",
     "output_type": "stream",
     "text": [
      "71.45122228500087\n"
     ]
    },
    {
     "data": {
      "text/plain": [
       "XGBRegressor(base_score=None, booster=None, callbacks=None,\n",
       "             colsample_bylevel=None, colsample_bynode=None,\n",
       "             colsample_bytree=None, early_stopping_rounds=None,\n",
       "             enable_categorical=False, eval_metric=None, feature_types=None,\n",
       "             gamma=None, gpu_id=None, grow_policy=None, importance_type=None,\n",
       "             interaction_constraints=None, learning_rate=None, max_bin=None,\n",
       "             max_cat_threshold=None, max_cat_to_onehot=None,\n",
       "             max_delta_step=None, max_depth=10, max_leaves=None,\n",
       "             min_child_weight=None, missing=nan, monotone_constraints=None,\n",
       "             n_estimators=100, n_jobs=None, num_parallel_tree=None,\n",
       "             objective='reg:squarederror', predictor=None, ...)"
      ]
     },
     "execution_count": 54,
     "metadata": {},
     "output_type": "execute_result"
    }
   ],
   "source": [
    "features = df.drop(['Demand', 'Date'], axis=1)\n",
    "preds = model.predict(X_test)\n",
    "print(mae(preds,y_test))\n",
    "features = pipeline.fit_transform(features)\n",
    "model.fit(features,target)"
   ]
  },
  {
   "cell_type": "code",
   "execution_count": 55,
   "id": "712764a7",
   "metadata": {
    "scrolled": true
   },
   "outputs": [],
   "source": [
    "df=pd.read_csv('test_kaggle.csv')\n",
    "df = preprocess(df)\n",
    "ids = df['id']\n",
    "df.drop('id',axis=1,inplace=True)\n",
    "target = df['Demand']\n",
    "features = df.drop(['Demand', 'Date'], axis=1)\n",
    "features = pipeline.fit_transform(features)\n",
    "preds = model.predict(features)\n",
    "res = pd.DataFrame(ids)\n",
    "res['Demand'] = preds\n",
    "res.to_csv('testing.csv',index=False)"
   ]
  },
  {
   "cell_type": "code",
   "execution_count": 56,
   "id": "413bf3d8",
   "metadata": {},
   "outputs": [],
   "source": [
    "#Now, let's try the Random forest regressor\n",
    "\n",
    "from sklearn.ensemble import RandomForestRegressor as rf"
   ]
  },
  {
   "cell_type": "code",
   "execution_count": 57,
   "id": "48fc80e7",
   "metadata": {
    "scrolled": true
   },
   "outputs": [
    {
     "data": {
      "text/plain": [
       "RandomForestRegressor(bootstrap=True, ccp_alpha=0.0, criterion='mse',\n",
       "                      max_depth=None, max_features='auto', max_leaf_nodes=None,\n",
       "                      max_samples=None, min_impurity_decrease=0.0,\n",
       "                      min_impurity_split=None, min_samples_leaf=1,\n",
       "                      min_samples_split=2, min_weight_fraction_leaf=0.0,\n",
       "                      n_estimators=100, n_jobs=None, oob_score=False,\n",
       "                      random_state=None, verbose=0, warm_start=False)"
      ]
     },
     "execution_count": 57,
     "metadata": {},
     "output_type": "execute_result"
    }
   ],
   "source": [
    "model1 = rf(n_estimators=100)\n",
    "model1.fit(X_train,y_train)"
   ]
  },
  {
   "cell_type": "code",
   "execution_count": 58,
   "id": "49cbd977",
   "metadata": {
    "scrolled": false
   },
   "outputs": [
    {
     "data": {
      "text/plain": [
       "71.41930703557786"
      ]
     },
     "execution_count": 58,
     "metadata": {},
     "output_type": "execute_result"
    }
   ],
   "source": [
    "df=pd.read_csv('test_kaggle.csv')\n",
    "df = preprocess(df)\n",
    "ids = df['id']\n",
    "df.drop('id',axis=1,inplace=True)\n",
    "target = df['Demand']\n",
    "features = df.drop(['Demand', 'Date'], axis=1)\n",
    "features = pipeline.fit_transform(features)\n",
    "preds = model.predict(features)\n",
    "res = pd.DataFrame(ids)\n",
    "res['Demand'] = preds\n",
    "res.to_csv('testing.csv',index=False)\n",
    "mae(pred,y_test)"
   ]
  },
  {
   "cell_type": "code",
   "execution_count": 28,
   "id": "e5ffad39",
   "metadata": {},
   "outputs": [
    {
     "data": {
      "text/html": [
       "<div>\n",
       "<style scoped>\n",
       "    .dataframe tbody tr th:only-of-type {\n",
       "        vertical-align: middle;\n",
       "    }\n",
       "\n",
       "    .dataframe tbody tr th {\n",
       "        vertical-align: top;\n",
       "    }\n",
       "\n",
       "    .dataframe thead th {\n",
       "        text-align: right;\n",
       "    }\n",
       "</style>\n",
       "<table border=\"1\" class=\"dataframe\">\n",
       "  <thead>\n",
       "    <tr style=\"text-align: right;\">\n",
       "      <th></th>\n",
       "      <th>id</th>\n",
       "      <th>Demand</th>\n",
       "    </tr>\n",
       "  </thead>\n",
       "  <tbody>\n",
       "    <tr>\n",
       "      <th>0</th>\n",
       "      <td>0</td>\n",
       "      <td>481.114105</td>\n",
       "    </tr>\n",
       "    <tr>\n",
       "      <th>1</th>\n",
       "      <td>1</td>\n",
       "      <td>23.687914</td>\n",
       "    </tr>\n",
       "    <tr>\n",
       "      <th>2</th>\n",
       "      <td>2</td>\n",
       "      <td>7.237731</td>\n",
       "    </tr>\n",
       "    <tr>\n",
       "      <th>3</th>\n",
       "      <td>3</td>\n",
       "      <td>7.425086</td>\n",
       "    </tr>\n",
       "    <tr>\n",
       "      <th>4</th>\n",
       "      <td>4</td>\n",
       "      <td>7.862178</td>\n",
       "    </tr>\n",
       "    <tr>\n",
       "      <th>...</th>\n",
       "      <td>...</td>\n",
       "      <td>...</td>\n",
       "    </tr>\n",
       "    <tr>\n",
       "      <th>5965</th>\n",
       "      <td>5965</td>\n",
       "      <td>20.543852</td>\n",
       "    </tr>\n",
       "    <tr>\n",
       "      <th>5966</th>\n",
       "      <td>5966</td>\n",
       "      <td>13.242611</td>\n",
       "    </tr>\n",
       "    <tr>\n",
       "      <th>5967</th>\n",
       "      <td>5967</td>\n",
       "      <td>23.315908</td>\n",
       "    </tr>\n",
       "    <tr>\n",
       "      <th>5968</th>\n",
       "      <td>5968</td>\n",
       "      <td>18.678003</td>\n",
       "    </tr>\n",
       "    <tr>\n",
       "      <th>5969</th>\n",
       "      <td>5969</td>\n",
       "      <td>16.956100</td>\n",
       "    </tr>\n",
       "  </tbody>\n",
       "</table>\n",
       "<p>5970 rows × 2 columns</p>\n",
       "</div>"
      ],
      "text/plain": [
       "        id      Demand\n",
       "0        0  481.114105\n",
       "1        1   23.687914\n",
       "2        2    7.237731\n",
       "3        3    7.425086\n",
       "4        4    7.862178\n",
       "...    ...         ...\n",
       "5965  5965   20.543852\n",
       "5966  5966   13.242611\n",
       "5967  5967   23.315908\n",
       "5968  5968   18.678003\n",
       "5969  5969   16.956100\n",
       "\n",
       "[5970 rows x 2 columns]"
      ]
     },
     "execution_count": 28,
     "metadata": {},
     "output_type": "execute_result"
    }
   ],
   "source": [
    "res"
   ]
  },
  {
   "cell_type": "code",
   "execution_count": 33,
   "id": "1c642e54",
   "metadata": {},
   "outputs": [
    {
     "data": {
      "text/plain": [
       "array([[-1.50612336,  0.8260139 , -1.42810953, -1.47726192,  0.        ],\n",
       "       [-1.0062592 ,  0.93474787, -0.22429533, -1.47726192,  0.        ],\n",
       "       [-0.50639505,  1.04348184,  0.12478513, -1.47726192,  0.        ],\n",
       "       ...,\n",
       "       [ 0.49333327,  0.17361008,  0.29932535,  0.67692803,  0.        ],\n",
       "       [ 0.99319743,  0.28234405,  0.29932535,  0.67692803,  0.        ],\n",
       "       [ 1.49306159,  0.39107802,  0.29932535,  0.67692803,  0.        ]])"
      ]
     },
     "execution_count": 33,
     "metadata": {},
     "output_type": "execute_result"
    }
   ],
   "source": [
    "features"
   ]
  },
  {
   "cell_type": "code",
   "execution_count": null,
   "id": "5b47feb3",
   "metadata": {},
   "outputs": [],
   "source": []
  }
 ],
 "metadata": {
  "kernelspec": {
   "display_name": "Python 3 (ipykernel)",
   "language": "python",
   "name": "python3"
  },
  "language_info": {
   "codemirror_mode": {
    "name": "ipython",
    "version": 3
   },
   "file_extension": ".py",
   "mimetype": "text/x-python",
   "name": "python",
   "nbconvert_exporter": "python",
   "pygments_lexer": "ipython3",
   "version": "3.8.8"
  }
 },
 "nbformat": 4,
 "nbformat_minor": 5
}
