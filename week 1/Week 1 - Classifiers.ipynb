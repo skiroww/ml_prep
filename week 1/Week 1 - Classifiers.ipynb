{
 "cells": [
  {
   "cell_type": "markdown",
   "id": "402a8a1f",
   "metadata": {},
   "source": [
    "### The first week of active prep - experiments with classifiers using sklearn lib.\n",
    "#### ( first iteration -> not the highest quality of EDA, tuning etc )"
   ]
  },
  {
   "cell_type": "code",
   "execution_count": 1,
   "id": "5829a1ae",
   "metadata": {},
   "outputs": [],
   "source": [
    "import numpy as np\n",
    "import pandas as pd\n",
    "import seaborn as sb"
   ]
  },
  {
   "cell_type": "code",
   "execution_count": 2,
   "id": "a056ea86",
   "metadata": {},
   "outputs": [],
   "source": [
    "data = pd.read_csv(\"heart.csv\")"
   ]
  },
  {
   "cell_type": "code",
   "execution_count": 3,
   "id": "f929bc7c",
   "metadata": {
    "scrolled": true
   },
   "outputs": [
    {
     "data": {
      "text/html": [
       "<div>\n",
       "<style scoped>\n",
       "    .dataframe tbody tr th:only-of-type {\n",
       "        vertical-align: middle;\n",
       "    }\n",
       "\n",
       "    .dataframe tbody tr th {\n",
       "        vertical-align: top;\n",
       "    }\n",
       "\n",
       "    .dataframe thead th {\n",
       "        text-align: right;\n",
       "    }\n",
       "</style>\n",
       "<table border=\"1\" class=\"dataframe\">\n",
       "  <thead>\n",
       "    <tr style=\"text-align: right;\">\n",
       "      <th></th>\n",
       "      <th>age</th>\n",
       "      <th>sex</th>\n",
       "      <th>cp</th>\n",
       "      <th>trestbps</th>\n",
       "      <th>chol</th>\n",
       "      <th>fbs</th>\n",
       "      <th>restecg</th>\n",
       "      <th>thalach</th>\n",
       "      <th>exang</th>\n",
       "      <th>oldpeak</th>\n",
       "      <th>slope</th>\n",
       "      <th>ca</th>\n",
       "      <th>thal</th>\n",
       "      <th>target</th>\n",
       "    </tr>\n",
       "  </thead>\n",
       "  <tbody>\n",
       "    <tr>\n",
       "      <th>0</th>\n",
       "      <td>63</td>\n",
       "      <td>1</td>\n",
       "      <td>3</td>\n",
       "      <td>145</td>\n",
       "      <td>233</td>\n",
       "      <td>1</td>\n",
       "      <td>0</td>\n",
       "      <td>150</td>\n",
       "      <td>0</td>\n",
       "      <td>2.3</td>\n",
       "      <td>0</td>\n",
       "      <td>0</td>\n",
       "      <td>1</td>\n",
       "      <td>1</td>\n",
       "    </tr>\n",
       "    <tr>\n",
       "      <th>1</th>\n",
       "      <td>37</td>\n",
       "      <td>1</td>\n",
       "      <td>2</td>\n",
       "      <td>130</td>\n",
       "      <td>250</td>\n",
       "      <td>0</td>\n",
       "      <td>1</td>\n",
       "      <td>187</td>\n",
       "      <td>0</td>\n",
       "      <td>3.5</td>\n",
       "      <td>0</td>\n",
       "      <td>0</td>\n",
       "      <td>2</td>\n",
       "      <td>1</td>\n",
       "    </tr>\n",
       "    <tr>\n",
       "      <th>2</th>\n",
       "      <td>41</td>\n",
       "      <td>0</td>\n",
       "      <td>1</td>\n",
       "      <td>130</td>\n",
       "      <td>204</td>\n",
       "      <td>0</td>\n",
       "      <td>0</td>\n",
       "      <td>172</td>\n",
       "      <td>0</td>\n",
       "      <td>1.4</td>\n",
       "      <td>2</td>\n",
       "      <td>0</td>\n",
       "      <td>2</td>\n",
       "      <td>1</td>\n",
       "    </tr>\n",
       "    <tr>\n",
       "      <th>3</th>\n",
       "      <td>56</td>\n",
       "      <td>1</td>\n",
       "      <td>1</td>\n",
       "      <td>120</td>\n",
       "      <td>236</td>\n",
       "      <td>0</td>\n",
       "      <td>1</td>\n",
       "      <td>178</td>\n",
       "      <td>0</td>\n",
       "      <td>0.8</td>\n",
       "      <td>2</td>\n",
       "      <td>0</td>\n",
       "      <td>2</td>\n",
       "      <td>1</td>\n",
       "    </tr>\n",
       "    <tr>\n",
       "      <th>4</th>\n",
       "      <td>57</td>\n",
       "      <td>0</td>\n",
       "      <td>0</td>\n",
       "      <td>120</td>\n",
       "      <td>354</td>\n",
       "      <td>0</td>\n",
       "      <td>1</td>\n",
       "      <td>163</td>\n",
       "      <td>1</td>\n",
       "      <td>0.6</td>\n",
       "      <td>2</td>\n",
       "      <td>0</td>\n",
       "      <td>2</td>\n",
       "      <td>1</td>\n",
       "    </tr>\n",
       "  </tbody>\n",
       "</table>\n",
       "</div>"
      ],
      "text/plain": [
       "   age  sex  cp  trestbps  chol  fbs  restecg  thalach  exang  oldpeak  slope  \\\n",
       "0   63    1   3       145   233    1        0      150      0      2.3      0   \n",
       "1   37    1   2       130   250    0        1      187      0      3.5      0   \n",
       "2   41    0   1       130   204    0        0      172      0      1.4      2   \n",
       "3   56    1   1       120   236    0        1      178      0      0.8      2   \n",
       "4   57    0   0       120   354    0        1      163      1      0.6      2   \n",
       "\n",
       "   ca  thal  target  \n",
       "0   0     1       1  \n",
       "1   0     2       1  \n",
       "2   0     2       1  \n",
       "3   0     2       1  \n",
       "4   0     2       1  "
      ]
     },
     "execution_count": 3,
     "metadata": {},
     "output_type": "execute_result"
    }
   ],
   "source": [
    "data.head()"
   ]
  },
  {
   "cell_type": "code",
   "execution_count": 4,
   "id": "a8eddaf3",
   "metadata": {},
   "outputs": [],
   "source": [
    "from sklearn.model_selection import train_test_split as tts"
   ]
  },
  {
   "cell_type": "code",
   "execution_count": 5,
   "id": "4da8950b",
   "metadata": {},
   "outputs": [
    {
     "data": {
      "image/png": "[encoded data removed]",
      "text/plain": [
       "<Figure size 432x288 with 2 Axes>"
      ]
     },
     "metadata": {
      "needs_background": "light"
     },
     "output_type": "display_data"
    }
   ],
   "source": [
    "# firstly, I'd build the correlation matrix\n",
    "dataplot = sb.heatmap(data.corr(), cmap=\"YlGnBu\")\n",
    "# as can be seen, cp, slope and thalach seem to have the highest correlation among other. \n",
    "# thus, except for random forest, I would use them for LogReg, linear svm\n",
    "# for random forest and kernel svm, I'd use all of the features."
   ]
  },
  {
   "cell_type": "code",
   "execution_count": 6,
   "id": "833ca53e",
   "metadata": {},
   "outputs": [],
   "source": [
    "X = data[['cp','thalach','slope','age','restecg','chol']]\n",
    "y = data['target']\n",
    "\n",
    "X_train, X_test, y_train, y_test = tts(X,y,test_size=0.2, random_state = 228)"
   ]
  },
  {
   "cell_type": "code",
   "execution_count": 7,
   "id": "60380d73",
   "metadata": {},
   "outputs": [
    {
     "name": "stdout",
     "output_type": "stream",
     "text": [
      "The first iteration with logistic regression accuracy:  0.8032786885245902\n"
     ]
    }
   ],
   "source": [
    "from sklearn.linear_model import LogisticRegression\n",
    "from sklearn.metrics import accuracy_score\n",
    "\n",
    "lr = LogisticRegression(C = 55, solver ='liblinear')\n",
    "lr.fit(X_train,y_train)\n",
    "\n",
    "y_pred = lr.predict(X_test)\n",
    "print('The first iteration with logistic regression accuracy: ',\n",
    "      accuracy_score(y_pred, y_test))"
   ]
  },
  {
   "cell_type": "code",
   "execution_count": 8,
   "id": "02ed7109",
   "metadata": {},
   "outputs": [],
   "source": [
    "# now let's standardise the data:\n",
    "from sklearn.preprocessing import StandardScaler\n",
    "std = StandardScaler()\n",
    "X_train_std = std.fit_transform(X_train)\n",
    "X_test_std = std.fit_transform(X_test)"
   ]
  },
  {
   "cell_type": "code",
   "execution_count": 9,
   "id": "5bc5324e",
   "metadata": {},
   "outputs": [
    {
     "name": "stdout",
     "output_type": "stream",
     "text": [
      "The second iteration with logistic regression accuracy:  0.7868852459016393\n"
     ]
    }
   ],
   "source": [
    "lr = LogisticRegression(C=1, solver ='liblinear')\n",
    "lr.fit(X_train_std,y_train)\n",
    "y_pred = lr.predict(X_test_std)\n",
    "print('The second iteration with logistic regression accuracy: ',\n",
    "      accuracy_score(y_pred, y_test))\n",
    "# However, this does not help here somehow *_* now we'll use the RandomForest classifier"
   ]
  },
  {
   "cell_type": "code",
   "execution_count": 10,
   "id": "57a8877b",
   "metadata": {},
   "outputs": [],
   "source": [
    "# I'll use all data here\n",
    "new_X = data.drop('target',axis=1)\n",
    "new_X_train, new_X_test, new_y_train, new_y_test = tts(new_X,y,test_size=0.2, random_state = 228)\n",
    "\n"
   ]
  },
  {
   "cell_type": "code",
   "execution_count": 15,
   "id": "617b6184",
   "metadata": {},
   "outputs": [
    {
     "data": {
      "text/plain": [
       "RandomForestClassifier(n_estimators=500, n_jobs=2, random_state=228)"
      ]
     },
     "execution_count": 15,
     "metadata": {},
     "output_type": "execute_result"
    }
   ],
   "source": [
    "from sklearn.ensemble import RandomForestClassifier\n",
    "\n",
    "wood = RandomForestClassifier(n_estimators = 500, random_state = 228, n_jobs = 2)\n",
    "wood.fit(new_X_train, new_y_train)\n"
   ]
  },
  {
   "cell_type": "code",
   "execution_count": 16,
   "id": "fb62d029",
   "metadata": {},
   "outputs": [
    {
     "name": "stdout",
     "output_type": "stream",
     "text": [
      "The first iteration with Random Forest accuracy:  0.8524590163934426\n"
     ]
    }
   ],
   "source": [
    "y_pred1 = wood.predict(new_X_test)\n",
    "print('The first iteration with Random Forest accuracy: ',\n",
    "      accuracy_score(y_pred1, new_y_test))\n",
    "#Here, we can see that the accuracy is ± 5% higher than in LR case"
   ]
  },
  {
   "cell_type": "code",
   "execution_count": 17,
   "id": "7c6ac6e5",
   "metadata": {},
   "outputs": [],
   "source": [
    "X_train_std1 = std.fit_transform(new_X_train)\n",
    "X_test_std1 = std.fit_transform(new_X_test)"
   ]
  },
  {
   "cell_type": "code",
   "execution_count": 18,
   "id": "dc836832",
   "metadata": {},
   "outputs": [
    {
     "name": "stdout",
     "output_type": "stream",
     "text": [
      "The first iteration with Random Forest accuracy:  0.8524590163934426\n"
     ]
    }
   ],
   "source": [
    "wood.fit(X_train_std1, new_y_train)\n",
    "y_pred1 = wood.predict(X_test_std1)\n",
    "print('The first iteration with Random Forest accuracy: ',\n",
    "      accuracy_score(y_pred1, new_y_test))\n",
    "#Scaling did not do much here tho..."
   ]
  },
  {
   "cell_type": "markdown",
   "id": "4740c9ea",
   "metadata": {},
   "source": [
    "### The results shown by Random forest are superior to LR, for now. I'll probably return to this dataset in the next weeks with better EDA and other methods used.\n"
   ]
  },
  {
   "cell_type": "markdown",
   "id": "9af6630b",
   "metadata": {},
   "source": [
    "### Now, let's use the L1-L2 penalty as well as RobustScaler and Random Forest feture selection"
   ]
  },
  {
   "cell_type": "code",
   "execution_count": 22,
   "id": "494790a3",
   "metadata": {},
   "outputs": [],
   "source": [
    "# Firstly, let's output the most significant features according to the RF\n",
    "from matplotlib import pyplot as plt"
   ]
  },
  {
   "cell_type": "code",
   "execution_count": 31,
   "id": "bf35c467",
   "metadata": {
    "scrolled": true
   },
   "outputs": [
    {
     "data": {
      "image/png": "[encoded data removed]",
      "text/plain": [
       "<Figure size 432x288 with 1 Axes>"
      ]
     },
     "metadata": {
      "needs_background": "light"
     },
     "output_type": "display_data"
    }
   ],
   "source": [
    "wood.feature_importances_\n",
    "fancy_importance = {new_X.columns[i]:wood.feature_importances_[i] for i in range(13)}\n",
    "fancy_importance = dict(sorted(fancy_importance.items(), key=lambda item: item[1]))\n",
    "plt.bar(range(13),fancy_importance.values())\n",
    "plt.xticks(range(13), fancy_importance.keys(), rotation = 90)\n",
    "plt.title(\"Feature importance sorted\")\n",
    "plt.show()"
   ]
  },
  {
   "cell_type": "code",
   "execution_count": 39,
   "id": "5aaf2f88",
   "metadata": {},
   "outputs": [],
   "source": [
    "#Now, as we can see, some of the feature lack importance -> \n",
    "#it's logical to try and eliminate them\n",
    "X_elim = pd.DataFrame()\n",
    "for key in fancy_importance:\n",
    "    if(fancy_importance[key] > 0.08):\n",
    "        X_elim[key] = new_X[key]"
   ]
  },
  {
   "cell_type": "code",
   "execution_count": 42,
   "id": "87469ca0",
   "metadata": {},
   "outputs": [],
   "source": [
    "X_elim.head() # Now we are left with ( hopefully ) the most meaningful features.\n",
    "new_X_train, new_X_test, new_y_train, new_y_test = tts(X_elim,y,test_size=0.2, random_state = 228, stratify=y)"
   ]
  },
  {
   "cell_type": "code",
   "execution_count": 48,
   "id": "5fa45812",
   "metadata": {},
   "outputs": [
    {
     "name": "stdout",
     "output_type": "stream",
     "text": [
      "The first iteration with Random Forest accuracy after elimination:  0.7868852459016393\n"
     ]
    }
   ],
   "source": [
    "wood = RandomForestClassifier(n_estimators = 50, random_state = 228, n_jobs = 2)\n",
    "wood.fit(new_X_train, new_y_train)\n",
    "y_pred1 = wood.predict(new_X_test)\n",
    "print('The first iteration with Random Forest accuracy after elimination: ',\n",
    "      accuracy_score(y_pred1, new_y_test))"
   ]
  },
  {
   "cell_type": "code",
   "execution_count": 57,
   "id": "73cb677d",
   "metadata": {},
   "outputs": [
    {
     "name": "stdout",
     "output_type": "stream",
     "text": [
      "The first iteration with LogRegr accuracy after elimination:  0.7213114754098361\n"
     ]
    }
   ],
   "source": [
    "lr2 = LogisticRegression(C=0.1,penalty ='l2', solver = 'liblinear')\n",
    "lr2.fit(new_X_train, new_y_train)\n",
    "y_pred2 = lr2.predict(new_X_test)\n",
    "print('The first iteration with LogRegr accuracy after elimination: ',\n",
    "      accuracy_score(y_pred2, new_y_test))"
   ]
  },
  {
   "cell_type": "markdown",
   "id": "d2b18530",
   "metadata": {},
   "source": [
    "### The results are not very promising...\n",
    "### Need to learn the EDA from Kaggle imo\n",
    "### However, let's use the RobustScaler and check if it works with the OG data. Also, after that I'd like to use L1-2 penalties on the og data"
   ]
  },
  {
   "cell_type": "code",
   "execution_count": 59,
   "id": "c7bc6230",
   "metadata": {},
   "outputs": [],
   "source": [
    "from sklearn.preprocessing import RobustScaler"
   ]
  },
  {
   "cell_type": "code",
   "execution_count": 72,
   "id": "f7c6efe5",
   "metadata": {},
   "outputs": [],
   "source": [
    "#KOLHOZ SORRY\n",
    "categories = [False,True,True,False,False,True,True,False,True,False,True,True,]\n",
    "to_scale = [False,False,False,True,True,False,False,True,False,True,False,False,False]\n",
    "for i in range(13):\n",
    "    if(to_scale[i] ==True):\n",
    "        scaler = RobustScaler()\n",
    "        new_X[new_X.columns[i]] =scaler.fit_transform(np.array(new_X[new_X.columns[i]]).reshape(-1,1))"
   ]
  },
  {
   "cell_type": "code",
   "execution_count": 66,
   "id": "7c2f1542",
   "metadata": {},
   "outputs": [
    {
     "data": {
      "text/plain": [
       "'age'"
      ]
     },
     "execution_count": 66,
     "metadata": {},
     "output_type": "execute_result"
    }
   ],
   "source": [
    "new_X.columns"
   ]
  },
  {
   "cell_type": "code",
   "execution_count": 73,
   "id": "d0a3e43f",
   "metadata": {},
   "outputs": [
    {
     "data": {
      "text/html": [
       "<div>\n",
       "<style scoped>\n",
       "    .dataframe tbody tr th:only-of-type {\n",
       "        vertical-align: middle;\n",
       "    }\n",
       "\n",
       "    .dataframe tbody tr th {\n",
       "        vertical-align: top;\n",
       "    }\n",
       "\n",
       "    .dataframe thead th {\n",
       "        text-align: right;\n",
       "    }\n",
       "</style>\n",
       "<table border=\"1\" class=\"dataframe\">\n",
       "  <thead>\n",
       "    <tr style=\"text-align: right;\">\n",
       "      <th></th>\n",
       "      <th>age</th>\n",
       "      <th>sex</th>\n",
       "      <th>cp</th>\n",
       "      <th>trestbps</th>\n",
       "      <th>chol</th>\n",
       "      <th>fbs</th>\n",
       "      <th>restecg</th>\n",
       "      <th>thalach</th>\n",
       "      <th>exang</th>\n",
       "      <th>oldpeak</th>\n",
       "      <th>slope</th>\n",
       "      <th>ca</th>\n",
       "      <th>thal</th>\n",
       "    </tr>\n",
       "  </thead>\n",
       "  <tbody>\n",
       "    <tr>\n",
       "      <th>0</th>\n",
       "      <td>63</td>\n",
       "      <td>1</td>\n",
       "      <td>3</td>\n",
       "      <td>0.75</td>\n",
       "      <td>-0.110236</td>\n",
       "      <td>1</td>\n",
       "      <td>0</td>\n",
       "      <td>-0.092308</td>\n",
       "      <td>0</td>\n",
       "      <td>0.9375</td>\n",
       "      <td>0</td>\n",
       "      <td>0</td>\n",
       "      <td>1</td>\n",
       "    </tr>\n",
       "    <tr>\n",
       "      <th>1</th>\n",
       "      <td>37</td>\n",
       "      <td>1</td>\n",
       "      <td>2</td>\n",
       "      <td>0.00</td>\n",
       "      <td>0.157480</td>\n",
       "      <td>0</td>\n",
       "      <td>1</td>\n",
       "      <td>1.046154</td>\n",
       "      <td>0</td>\n",
       "      <td>1.6875</td>\n",
       "      <td>0</td>\n",
       "      <td>0</td>\n",
       "      <td>2</td>\n",
       "    </tr>\n",
       "    <tr>\n",
       "      <th>2</th>\n",
       "      <td>41</td>\n",
       "      <td>0</td>\n",
       "      <td>1</td>\n",
       "      <td>0.00</td>\n",
       "      <td>-0.566929</td>\n",
       "      <td>0</td>\n",
       "      <td>0</td>\n",
       "      <td>0.584615</td>\n",
       "      <td>0</td>\n",
       "      <td>0.3750</td>\n",
       "      <td>2</td>\n",
       "      <td>0</td>\n",
       "      <td>2</td>\n",
       "    </tr>\n",
       "    <tr>\n",
       "      <th>3</th>\n",
       "      <td>56</td>\n",
       "      <td>1</td>\n",
       "      <td>1</td>\n",
       "      <td>-0.50</td>\n",
       "      <td>-0.062992</td>\n",
       "      <td>0</td>\n",
       "      <td>1</td>\n",
       "      <td>0.769231</td>\n",
       "      <td>0</td>\n",
       "      <td>0.0000</td>\n",
       "      <td>2</td>\n",
       "      <td>0</td>\n",
       "      <td>2</td>\n",
       "    </tr>\n",
       "    <tr>\n",
       "      <th>4</th>\n",
       "      <td>57</td>\n",
       "      <td>0</td>\n",
       "      <td>0</td>\n",
       "      <td>-0.50</td>\n",
       "      <td>1.795276</td>\n",
       "      <td>0</td>\n",
       "      <td>1</td>\n",
       "      <td>0.307692</td>\n",
       "      <td>1</td>\n",
       "      <td>-0.1250</td>\n",
       "      <td>2</td>\n",
       "      <td>0</td>\n",
       "      <td>2</td>\n",
       "    </tr>\n",
       "    <tr>\n",
       "      <th>...</th>\n",
       "      <td>...</td>\n",
       "      <td>...</td>\n",
       "      <td>...</td>\n",
       "      <td>...</td>\n",
       "      <td>...</td>\n",
       "      <td>...</td>\n",
       "      <td>...</td>\n",
       "      <td>...</td>\n",
       "      <td>...</td>\n",
       "      <td>...</td>\n",
       "      <td>...</td>\n",
       "      <td>...</td>\n",
       "      <td>...</td>\n",
       "    </tr>\n",
       "    <tr>\n",
       "      <th>298</th>\n",
       "      <td>57</td>\n",
       "      <td>0</td>\n",
       "      <td>0</td>\n",
       "      <td>0.50</td>\n",
       "      <td>0.015748</td>\n",
       "      <td>0</td>\n",
       "      <td>1</td>\n",
       "      <td>-0.923077</td>\n",
       "      <td>1</td>\n",
       "      <td>-0.3750</td>\n",
       "      <td>1</td>\n",
       "      <td>0</td>\n",
       "      <td>3</td>\n",
       "    </tr>\n",
       "    <tr>\n",
       "      <th>299</th>\n",
       "      <td>45</td>\n",
       "      <td>1</td>\n",
       "      <td>3</td>\n",
       "      <td>-1.00</td>\n",
       "      <td>0.377953</td>\n",
       "      <td>0</td>\n",
       "      <td>1</td>\n",
       "      <td>-0.646154</td>\n",
       "      <td>0</td>\n",
       "      <td>0.2500</td>\n",
       "      <td>1</td>\n",
       "      <td>0</td>\n",
       "      <td>3</td>\n",
       "    </tr>\n",
       "    <tr>\n",
       "      <th>300</th>\n",
       "      <td>68</td>\n",
       "      <td>1</td>\n",
       "      <td>0</td>\n",
       "      <td>0.70</td>\n",
       "      <td>-0.740157</td>\n",
       "      <td>1</td>\n",
       "      <td>1</td>\n",
       "      <td>-0.369231</td>\n",
       "      <td>0</td>\n",
       "      <td>1.6250</td>\n",
       "      <td>1</td>\n",
       "      <td>2</td>\n",
       "      <td>3</td>\n",
       "    </tr>\n",
       "    <tr>\n",
       "      <th>301</th>\n",
       "      <td>57</td>\n",
       "      <td>1</td>\n",
       "      <td>0</td>\n",
       "      <td>0.00</td>\n",
       "      <td>-1.716535</td>\n",
       "      <td>0</td>\n",
       "      <td>1</td>\n",
       "      <td>-1.169231</td>\n",
       "      <td>1</td>\n",
       "      <td>0.2500</td>\n",
       "      <td>1</td>\n",
       "      <td>1</td>\n",
       "      <td>3</td>\n",
       "    </tr>\n",
       "    <tr>\n",
       "      <th>302</th>\n",
       "      <td>57</td>\n",
       "      <td>0</td>\n",
       "      <td>1</td>\n",
       "      <td>0.00</td>\n",
       "      <td>-0.062992</td>\n",
       "      <td>0</td>\n",
       "      <td>0</td>\n",
       "      <td>0.646154</td>\n",
       "      <td>0</td>\n",
       "      <td>-0.5000</td>\n",
       "      <td>1</td>\n",
       "      <td>1</td>\n",
       "      <td>2</td>\n",
       "    </tr>\n",
       "  </tbody>\n",
       "</table>\n",
       "<p>303 rows × 13 columns</p>\n",
       "</div>"
      ],
      "text/plain": [
       "     age  sex  cp  trestbps      chol  fbs  restecg   thalach  exang  oldpeak  \\\n",
       "0     63    1   3      0.75 -0.110236    1        0 -0.092308      0   0.9375   \n",
       "1     37    1   2      0.00  0.157480    0        1  1.046154      0   1.6875   \n",
       "2     41    0   1      0.00 -0.566929    0        0  0.584615      0   0.3750   \n",
       "3     56    1   1     -0.50 -0.062992    0        1  0.769231      0   0.0000   \n",
       "4     57    0   0     -0.50  1.795276    0        1  0.307692      1  -0.1250   \n",
       "..   ...  ...  ..       ...       ...  ...      ...       ...    ...      ...   \n",
       "298   57    0   0      0.50  0.015748    0        1 -0.923077      1  -0.3750   \n",
       "299   45    1   3     -1.00  0.377953    0        1 -0.646154      0   0.2500   \n",
       "300   68    1   0      0.70 -0.740157    1        1 -0.369231      0   1.6250   \n",
       "301   57    1   0      0.00 -1.716535    0        1 -1.169231      1   0.2500   \n",
       "302   57    0   1      0.00 -0.062992    0        0  0.646154      0  -0.5000   \n",
       "\n",
       "     slope  ca  thal  \n",
       "0        0   0     1  \n",
       "1        0   0     2  \n",
       "2        2   0     2  \n",
       "3        2   0     2  \n",
       "4        2   0     2  \n",
       "..     ...  ..   ...  \n",
       "298      1   0     3  \n",
       "299      1   0     3  \n",
       "300      1   2     3  \n",
       "301      1   1     3  \n",
       "302      1   1     2  \n",
       "\n",
       "[303 rows x 13 columns]"
      ]
     },
     "execution_count": 73,
     "metadata": {},
     "output_type": "execute_result"
    }
   ],
   "source": [
    "new_X"
   ]
  },
  {
   "cell_type": "code",
   "execution_count": null,
   "id": "3734ada6",
   "metadata": {},
   "outputs": [],
   "source": []
  }
 ],
 "metadata": {
  "kernelspec": {
   "display_name": "Python 3 (ipykernel)",
   "language": "python",
   "name": "python3"
  },
  "language_info": {
   "codemirror_mode": {
    "name": "ipython",
    "version": 3
   },
   "file_extension": ".py",
   "mimetype": "text/x-python",
   "name": "python",
   "nbconvert_exporter": "python",
   "pygments_lexer": "ipython3",
   "version": "3.8.8"
  }
 },
 "nbformat": 4,
 "nbformat_minor": 5
}
