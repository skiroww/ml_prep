{
 "cells": [
  {
   "cell_type": "markdown",
   "id": "402a8a1f",
   "metadata": {},
   "source": [
    "### The first week of active prep - experiments with classifiers using sklearn lib.\n",
    "#### ( first iteration -> not the highest quality of EDA, tuning etc )"
   ]
  },
  {
   "cell_type": "code",
   "execution_count": 8,
   "id": "5829a1ae",
   "metadata": {},
   "outputs": [],
   "source": [
    "import numpy as np\n",
    "import pandas as pd\n",
    "import seaborn as sb"
   ]
  },
  {
   "cell_type": "code",
   "execution_count": 3,
   "id": "a056ea86",
   "metadata": {},
   "outputs": [],
   "source": [
    "data = pd.read_csv(\"heart.csv\")"
   ]
  },
  {
   "cell_type": "code",
   "execution_count": 5,
   "id": "f929bc7c",
   "metadata": {
    "scrolled": true
   },
   "outputs": [
    {
     "data": {
      "text/html": [
       "<div>\n",
       "<style scoped>\n",
       "    .dataframe tbody tr th:only-of-type {\n",
       "        vertical-align: middle;\n",
       "    }\n",
       "\n",
       "    .dataframe tbody tr th {\n",
       "        vertical-align: top;\n",
       "    }\n",
       "\n",
       "    .dataframe thead th {\n",
       "        text-align: right;\n",
       "    }\n",
       "</style>\n",
       "<table border=\"1\" class=\"dataframe\">\n",
       "  <thead>\n",
       "    <tr style=\"text-align: right;\">\n",
       "      <th></th>\n",
       "      <th>age</th>\n",
       "      <th>sex</th>\n",
       "      <th>cp</th>\n",
       "      <th>trestbps</th>\n",
       "      <th>chol</th>\n",
       "      <th>fbs</th>\n",
       "      <th>restecg</th>\n",
       "      <th>thalach</th>\n",
       "      <th>exang</th>\n",
       "      <th>oldpeak</th>\n",
       "      <th>slope</th>\n",
       "      <th>ca</th>\n",
       "      <th>thal</th>\n",
       "      <th>target</th>\n",
       "    </tr>\n",
       "  </thead>\n",
       "  <tbody>\n",
       "    <tr>\n",
       "      <th>0</th>\n",
       "      <td>63</td>\n",
       "      <td>1</td>\n",
       "      <td>3</td>\n",
       "      <td>145</td>\n",
       "      <td>233</td>\n",
       "      <td>1</td>\n",
       "      <td>0</td>\n",
       "      <td>150</td>\n",
       "      <td>0</td>\n",
       "      <td>2.3</td>\n",
       "      <td>0</td>\n",
       "      <td>0</td>\n",
       "      <td>1</td>\n",
       "      <td>1</td>\n",
       "    </tr>\n",
       "    <tr>\n",
       "      <th>1</th>\n",
       "      <td>37</td>\n",
       "      <td>1</td>\n",
       "      <td>2</td>\n",
       "      <td>130</td>\n",
       "      <td>250</td>\n",
       "      <td>0</td>\n",
       "      <td>1</td>\n",
       "      <td>187</td>\n",
       "      <td>0</td>\n",
       "      <td>3.5</td>\n",
       "      <td>0</td>\n",
       "      <td>0</td>\n",
       "      <td>2</td>\n",
       "      <td>1</td>\n",
       "    </tr>\n",
       "    <tr>\n",
       "      <th>2</th>\n",
       "      <td>41</td>\n",
       "      <td>0</td>\n",
       "      <td>1</td>\n",
       "      <td>130</td>\n",
       "      <td>204</td>\n",
       "      <td>0</td>\n",
       "      <td>0</td>\n",
       "      <td>172</td>\n",
       "      <td>0</td>\n",
       "      <td>1.4</td>\n",
       "      <td>2</td>\n",
       "      <td>0</td>\n",
       "      <td>2</td>\n",
       "      <td>1</td>\n",
       "    </tr>\n",
       "    <tr>\n",
       "      <th>3</th>\n",
       "      <td>56</td>\n",
       "      <td>1</td>\n",
       "      <td>1</td>\n",
       "      <td>120</td>\n",
       "      <td>236</td>\n",
       "      <td>0</td>\n",
       "      <td>1</td>\n",
       "      <td>178</td>\n",
       "      <td>0</td>\n",
       "      <td>0.8</td>\n",
       "      <td>2</td>\n",
       "      <td>0</td>\n",
       "      <td>2</td>\n",
       "      <td>1</td>\n",
       "    </tr>\n",
       "    <tr>\n",
       "      <th>4</th>\n",
       "      <td>57</td>\n",
       "      <td>0</td>\n",
       "      <td>0</td>\n",
       "      <td>120</td>\n",
       "      <td>354</td>\n",
       "      <td>0</td>\n",
       "      <td>1</td>\n",
       "      <td>163</td>\n",
       "      <td>1</td>\n",
       "      <td>0.6</td>\n",
       "      <td>2</td>\n",
       "      <td>0</td>\n",
       "      <td>2</td>\n",
       "      <td>1</td>\n",
       "    </tr>\n",
       "  </tbody>\n",
       "</table>\n",
       "</div>"
      ],
      "text/plain": [
       "   age  sex  cp  trestbps  chol  fbs  restecg  thalach  exang  oldpeak  slope  \\\n",
       "0   63    1   3       145   233    1        0      150      0      2.3      0   \n",
       "1   37    1   2       130   250    0        1      187      0      3.5      0   \n",
       "2   41    0   1       130   204    0        0      172      0      1.4      2   \n",
       "3   56    1   1       120   236    0        1      178      0      0.8      2   \n",
       "4   57    0   0       120   354    0        1      163      1      0.6      2   \n",
       "\n",
       "   ca  thal  target  \n",
       "0   0     1       1  \n",
       "1   0     2       1  \n",
       "2   0     2       1  \n",
       "3   0     2       1  \n",
       "4   0     2       1  "
      ]
     },
     "execution_count": 5,
     "metadata": {},
     "output_type": "execute_result"
    }
   ],
   "source": [
    "data.head()"
   ]
  },
  {
   "cell_type": "code",
   "execution_count": 6,
   "id": "a8eddaf3",
   "metadata": {},
   "outputs": [],
   "source": [
    "from sklearn.model_selection import train_test_split as tts"
   ]
  },
  {
   "cell_type": "code",
   "execution_count": 10,
   "id": "4da8950b",
   "metadata": {},
   "outputs": [
    {
     "data": {
      "image/png": "[encoded data removed]",
      "text/plain": [
       "<Figure size 432x288 with 2 Axes>"
      ]
     },
     "metadata": {
      "needs_background": "light"
     },
     "output_type": "display_data"
    }
   ],
   "source": [
    "# firstly, I'd build the correlation matrix\n",
    "dataplot = sb.heatmap(data.corr(), cmap=\"YlGnBu\")\n",
    "# as can be seen, cp, slope and thalach seem to have the highest correlation among other. \n",
    "# thus, except for random forest, I would use them for LogReg, linear svm\n",
    "# for random forest and kernel svm, I'd use all of the features."
   ]
  },
  {
   "cell_type": "code",
   "execution_count": 11,
   "id": "833ca53e",
   "metadata": {},
   "outputs": [],
   "source": [
    "X = data[['cp','thalach','slope','age','restecg','chol']]\n",
    "y = data['target']\n",
    "\n",
    "X_train, X_test, y_train, y_test = tts(X,y,test_size=0.2, random_state = 228)"
   ]
  },
  {
   "cell_type": "code",
   "execution_count": 32,
   "id": "60380d73",
   "metadata": {},
   "outputs": [
    {
     "name": "stdout",
     "output_type": "stream",
     "text": [
      "The first iteration with logistic regression accuracy:  0.8032786885245902\n"
     ]
    }
   ],
   "source": [
    "from sklearn.linear_model import LogisticRegression\n",
    "from sklearn.metrics import accuracy_score\n",
    "\n",
    "lr = LogisticRegression(C = 55, solver ='liblinear')\n",
    "lr.fit(X_train,y_train)\n",
    "\n",
    "y_pred = lr.predict(X_test)\n",
    "print('The first iteration with logistic regression accuracy: ',\n",
    "      accuracy_score(y_pred, y_test))"
   ]
  },
  {
   "cell_type": "code",
   "execution_count": 35,
   "id": "02ed7109",
   "metadata": {},
   "outputs": [],
   "source": [
    "# now let's standardise the data:\n",
    "from sklearn.preprocessing import StandardScaler\n",
    "std = StandardScaler()\n",
    "X_train_std = std.fit_transform(X_train)\n",
    "X_test_std = std.fit_transform(X_test)"
   ]
  },
  {
   "cell_type": "code",
   "execution_count": 49,
   "id": "5bc5324e",
   "metadata": {},
   "outputs": [
    {
     "name": "stdout",
     "output_type": "stream",
     "text": [
      "The second iteration with logistic regression accuracy:  0.7868852459016393\n"
     ]
    }
   ],
   "source": [
    "lr = LogisticRegression(C=1, solver ='liblinear')\n",
    "lr.fit(X_train_std,y_train)\n",
    "y_pred = lr.predict(X_test_std)\n",
    "print('The second iteration with logistic regression accuracy: ',\n",
    "      accuracy_score(y_pred, y_test))\n",
    "# However, this does not help here somehow *_* now we'll use the RandomForest classifier"
   ]
  },
  {
   "cell_type": "code",
   "execution_count": 54,
   "id": "57a8877b",
   "metadata": {},
   "outputs": [
    {
     "data": {
      "text/plain": [
       "RandomForestClassifier(n_estimators=25, n_jobs=2, random_state=228)"
      ]
     },
     "execution_count": 54,
     "metadata": {},
     "output_type": "execute_result"
    }
   ],
   "source": [
    "# I'll use all data here\n",
    "new_X = data.drop('target',axis=1)\n",
    "new_X_train, new_X_test, new_y_train, new_y_test = tts(new_X,y,test_size=0.2, random_state = 228)\n",
    "\n"
   ]
  },
  {
   "cell_type": "code",
   "execution_count": 108,
   "id": "617b6184",
   "metadata": {},
   "outputs": [
    {
     "data": {
      "text/plain": [
       "RandomForestClassifier(max_depth=4, n_estimators=5, n_jobs=2, random_state=228)"
      ]
     },
     "execution_count": 108,
     "metadata": {},
     "output_type": "execute_result"
    }
   ],
   "source": [
    "from sklearn.ensemble import RandomForestClassifier\n",
    "\n",
    "wood = RandomForestClassifier(n_estimators = 5,max_depth=4, random_state = 228, n_jobs = 2)\n",
    "wood.fit(new_X_train, new_y_train)\n"
   ]
  },
  {
   "cell_type": "code",
   "execution_count": 109,
   "id": "fb62d029",
   "metadata": {},
   "outputs": [
    {
     "name": "stdout",
     "output_type": "stream",
     "text": [
      "The first iteration with Random Forest accuracy:  0.8360655737704918\n"
     ]
    }
   ],
   "source": [
    "y_pred1 = wood.predict(new_X_test)\n",
    "print('The first iteration with Random Forest accuracy: ',\n",
    "      accuracy_score(y_pred1, new_y_test))\n",
    "#Here, we can see that the accuracy is ± 5% higher than in LR case"
   ]
  },
  {
   "cell_type": "code",
   "execution_count": 112,
   "id": "7c6ac6e5",
   "metadata": {},
   "outputs": [],
   "source": [
    "X_train_std1 = std.fit_transform(new_X_train)\n",
    "X_test_std1 = std.fit_transform(new_X_test)"
   ]
  },
  {
   "cell_type": "code",
   "execution_count": 113,
   "id": "dc836832",
   "metadata": {},
   "outputs": [
    {
     "name": "stdout",
     "output_type": "stream",
     "text": [
      "The first iteration with Random Forest accuracy:  0.8524590163934426\n"
     ]
    }
   ],
   "source": [
    "wood.fit(X_train_std1, new_y_train)\n",
    "y_pred1 = wood.predict(X_test_std1)\n",
    "print('The first iteration with Random Forest accuracy: ',\n",
    "      accuracy_score(y_pred1, new_y_test))\n",
    "#Scaling did not do much here tho..."
   ]
  },
  {
   "cell_type": "markdown",
   "id": "4740c9ea",
   "metadata": {},
   "source": [
    "### The results shown by Random forest are superior to LR, for now. I'll probably return to this dataset in the next weeks with better EDA and other methods used.\n"
   ]
  }
 ],
 "metadata": {
  "kernelspec": {
   "display_name": "Python 3 (ipykernel)",
   "language": "python",
   "name": "python3"
  },
  "language_info": {
   "codemirror_mode": {
    "name": "ipython",
    "version": 3
   },
   "file_extension": ".py",
   "mimetype": "text/x-python",
   "name": "python",
   "nbconvert_exporter": "python",
   "pygments_lexer": "ipython3",
   "version": "3.8.8"
  }
 },
 "nbformat": 4,
 "nbformat_minor": 5
}
