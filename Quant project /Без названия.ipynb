{
 "cells": [
  {
   "cell_type": "markdown",
   "id": "3f2310f1",
   "metadata": {},
   "source": [
    "# Quantitative project, Lugovtsev Timur, DSBA201\n",
    "\n",
    "## II.3 Find an optimal parameter for volume estimation\n",
    "\n",
    "### Plan:\n",
    "\n",
    "- Seek data for companies not having too drastic volume changes over the last  5 years\n",
    "- Build a function for estimating the volume by mean and median\n",
    "- Build weighted average of the last k days and use it as an estimate\n",
    "- Build a linear regression of the last k days and use this data to predict the next\n",
    "- For each method, plot a graph of accuracy as a function of dates for better visualization"
   ]
  },
  {
   "cell_type": "markdown",
   "id": "66a06698",
   "metadata": {},
   "source": [
    "# 1 - The mean, median and average estimation"
   ]
  },
  {
   "cell_type": "code",
   "execution_count": 1,
   "id": "3b8d3bb2",
   "metadata": {},
   "outputs": [],
   "source": [
    "import pandas as pd\n",
    "import numpy as np\n",
    "from matplotlib import pyplot as plt\n",
    "import seaborn as sns"
   ]
  },
  {
   "cell_type": "code",
   "execution_count": 17,
   "id": "28f2d81b",
   "metadata": {},
   "outputs": [],
   "source": [
    " import pandas as pd\n",
    "import numpy as np\n",
    "\n",
    "def estimate_next_day_volume(data, k):\n",
    "    \n",
    "    # Create a new dataframe with the rolling mean and median of the trading volume over the last k days\n",
    "    rolling_mean = data.rolling(window=k).mean().dropna()\n",
    "    rolling_median = data.rolling(window=k).median().dropna()\n",
    "    \n",
    "    # Compute the estimated volume for each day using both the mean and median\n",
    "    mean_estimates = data.shift(1).loc[rolling_mean.index] * rolling_mean / rolling_mean.shift(1)\n",
    "    median_estimates = data.shift(1).loc[rolling_median.index] * rolling_median / rolling_median.shift(1)\n",
    "    \n",
    "    # Compute the relative error for each estimation and take the absolute value\n",
    "    mean_error = np.abs(mean_estimates - data.loc[mean_estimates.index]) / data.loc[mean_estimates.index]\n",
    "    median_error = np.abs(median_estimates - data.loc[median_estimates.index]) / data.loc[median_estimates.index]\n",
    "    \n",
    "    # Compute the average accuracy of both estimations over the whole 5-year period\n",
    "    accuracy_mean = (1 - mean_error.mean()) \n",
    "    accuracy_median = (1 - median_error.mean())\n",
    "    average_accuracy = (accuracy_mean + accuracy_median) / 2\n",
    "    \n",
    "    return np.array([average_accuracy,accuracy_mean,accuracy_median])\n"
   ]
  },
  {
   "cell_type": "code",
   "execution_count": 4,
   "id": "649c409a",
   "metadata": {},
   "outputs": [],
   "source": [
    "'''\n",
    "For this task I'll use 3 companies: EXXON (XOM), GAP (GPS) and APPLE (AAPL). K - the number of days will \n",
    "run from 1 to 1000 for better understanding of the accuracy\n",
    "\n",
    "'''\n",
    "xom = pd.read_csv('XOM.csv')\n",
    "gps = pd.read_csv('GPS.csv')\n",
    "aapl = "
   ]
  },
  {
   "cell_type": "code",
   "execution_count": 5,
   "id": "3f879520",
   "metadata": {},
   "outputs": [],
   "source": [
    "xom = xom['Volume']\n",
    "gps = gps['Volume']"
   ]
  },
  {
   "cell_type": "code",
   "execution_count": 19,
   "id": "443e2b08",
   "metadata": {},
   "outputs": [],
   "source": [
    "acc = estimate_next_day_volume(xom, 3)"
   ]
  },
  {
   "cell_type": "code",
   "execution_count": 20,
   "id": "f048ab87",
   "metadata": {},
   "outputs": [
    {
     "data": {
      "text/plain": [
       "array([0.78403049, 0.79165314, 0.77640784])"
      ]
     },
     "execution_count": 20,
     "metadata": {},
     "output_type": "execute_result"
    }
   ],
   "source": [
    "for i in range"
   ]
  },
  {
   "cell_type": "code",
   "execution_count": null,
   "id": "6bd2175d",
   "metadata": {},
   "outputs": [],
   "source": []
  }
 ],
 "metadata": {
  "kernelspec": {
   "display_name": "Python 3 (ipykernel)",
   "language": "python",
   "name": "python3"
  },
  "language_info": {
   "codemirror_mode": {
    "name": "ipython",
    "version": 3
   },
   "file_extension": ".py",
   "mimetype": "text/x-python",
   "name": "python",
   "nbconvert_exporter": "python",
   "pygments_lexer": "ipython3",
   "version": "3.8.8"
  }
 },
 "nbformat": 4,
 "nbformat_minor": 5
}
